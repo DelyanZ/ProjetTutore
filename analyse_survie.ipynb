{
 "cells": [
  {
   "cell_type": "markdown",
   "metadata": {},
   "source": [
    "# Analyse de Survie en Python "
   ]
  },
  {
   "cell_type": "code",
   "execution_count": 1,
   "metadata": {},
   "outputs": [
    {
     "name": "stderr",
     "output_type": "stream",
     "text": [
      "c:\\Users\\zergu\\.conda\\envs\\venv\\lib\\site-packages\\scipy\\__init__.py:146: UserWarning: A NumPy version >=1.16.5 and <1.23.0 is required for this version of SciPy (detected version 1.23.5\n",
      "  warnings.warn(f\"A NumPy version >={np_minversion} and <{np_maxversion}\"\n"
     ]
    }
   ],
   "source": [
    "import pandas as pd\n",
    "import numpy as np\n",
    "from scipy.stats import f_oneway\n",
    "from statsmodels.stats.multitest import multipletests\n",
    "import matplotlib.pyplot as plt\n",
    "import seaborn as sns\n",
    "from lifelines import KaplanMeierFitter\n",
    "from lifelines import CoxPHFitter\n",
    "from lifelines.statistics import logrank_test\n",
    "from io import StringIO\n",
    "import sys"
   ]
  },
  {
   "cell_type": "markdown",
   "metadata": {},
   "source": [
    "## Import des données "
   ]
  },
  {
   "cell_type": "code",
   "execution_count": 2,
   "metadata": {},
   "outputs": [],
   "source": [
    "# Fichier qui donne le type de cancer activé pour chaque échnantillon\n",
    "cancer = pd.read_csv('data/Breast_cancer_subtypes_samples.csv',sep=';')"
   ]
  },
  {
   "cell_type": "code",
   "execution_count": 203,
   "metadata": {},
   "outputs": [],
   "source": [
    "# Expressions data \n",
    "GSE21653 = pd.read_csv('data/expression_data_GSE21653_GSE21653_log_expression_266_samples_21887_genes.csv',sep=';')\n",
    "Miller = pd.read_csv('data/expression_data_Miller-2005_Miller-2005_log_expression_251_samples_14145_genes.csv',sep=';')\n",
    "Naderi_Caldas = pd.read_csv('data/expression_data_Naderi-Caldas-2007_Naderi-Caldas-2007_log_expression_242_samples_14366_genes.csv',sep=';')\n",
    "E_MTAB_365 = pd.read_csv('data/expression_data_probreast_microarrays_E-MTAB-365_log_expression_1190_samples_23035_genes.csv',sep=';')\n",
    "GSE25066 = pd.read_csv('data/expression_data_probreast_microarrays_GSE25066_log_expression_508_samples_13815_genes.csv',sep=';')\n",
    "GSE42568 = pd.read_csv('data/expression_data_probreast_microarrays_GSE42568_log_expression_121_samples_23035_genes.csv',sep=';')\n",
    "TCGA_BRCA = pd.read_csv('data/expression_data_tcga_brca_TCGA-BRCA_log_fpkm_1250_samples_42851_genes.csv',sep=';')\n",
    "Yau = pd.read_csv('data/expression_data_Yau-2010_Yau-2010_log_expression_683_samples_8791_genes.csv',sep=';')"
   ]
  },
  {
   "cell_type": "code",
   "execution_count": 4,
   "metadata": {},
   "outputs": [
    {
     "name": "stderr",
     "output_type": "stream",
     "text": [
      "c:\\Users\\zergu\\.conda\\envs\\venv\\lib\\site-packages\\openpyxl\\styles\\stylesheet.py:226: UserWarning: Workbook contains no default style, apply openpyxl's default\n",
      "  warn(\"Workbook contains no default style, apply openpyxl's default\")\n",
      "c:\\Users\\zergu\\.conda\\envs\\venv\\lib\\site-packages\\openpyxl\\styles\\stylesheet.py:226: UserWarning: Workbook contains no default style, apply openpyxl's default\n",
      "  warn(\"Workbook contains no default style, apply openpyxl's default\")\n",
      "c:\\Users\\zergu\\.conda\\envs\\venv\\lib\\site-packages\\openpyxl\\styles\\stylesheet.py:226: UserWarning: Workbook contains no default style, apply openpyxl's default\n",
      "  warn(\"Workbook contains no default style, apply openpyxl's default\")\n",
      "c:\\Users\\zergu\\.conda\\envs\\venv\\lib\\site-packages\\openpyxl\\styles\\stylesheet.py:226: UserWarning: Workbook contains no default style, apply openpyxl's default\n",
      "  warn(\"Workbook contains no default style, apply openpyxl's default\")\n",
      "c:\\Users\\zergu\\.conda\\envs\\venv\\lib\\site-packages\\openpyxl\\styles\\stylesheet.py:226: UserWarning: Workbook contains no default style, apply openpyxl's default\n",
      "  warn(\"Workbook contains no default style, apply openpyxl's default\")\n",
      "c:\\Users\\zergu\\.conda\\envs\\venv\\lib\\site-packages\\openpyxl\\styles\\stylesheet.py:226: UserWarning: Workbook contains no default style, apply openpyxl's default\n",
      "  warn(\"Workbook contains no default style, apply openpyxl's default\")\n",
      "c:\\Users\\zergu\\.conda\\envs\\venv\\lib\\site-packages\\openpyxl\\styles\\stylesheet.py:226: UserWarning: Workbook contains no default style, apply openpyxl's default\n",
      "  warn(\"Workbook contains no default style, apply openpyxl's default\")\n",
      "c:\\Users\\zergu\\.conda\\envs\\venv\\lib\\site-packages\\openpyxl\\styles\\stylesheet.py:226: UserWarning: Workbook contains no default style, apply openpyxl's default\n",
      "  warn(\"Workbook contains no default style, apply openpyxl's default\")\n"
     ]
    }
   ],
   "source": [
    "# Annotations biocliniques\n",
    "GSE21653_EG = pd.read_excel('data/EpiMed_experimental_grouping_2022.11.28_GSE21653.xlsx')\n",
    "GSE25066_EG = pd.read_excel('data/EpiMed_experimental_grouping_2022.11.28_GSE25066.xlsx')\n",
    "GSE42568_EG = pd.read_excel('data/EpiMed_experimental_grouping_2022.11.28_GSE42568.xlsx')\n",
    "TCGA_BRCA_EG = pd.read_excel('data/EpiMed_experimental_grouping_2022.11.28_TCGA-BRCA.xlsx')\n",
    "Naderi_Caldas_EG = pd.read_excel('data/EpiMed_experimental_grouping_2022.12.01_Naderi-Caldas-2007.xlsx')\n",
    "Yau_EG = pd.read_excel('data/EpiMed_experimental_grouping_2022.12.01_Yau-2010.xlsx')\n",
    "Miller_EG = pd.read_excel('data/EpiMed_experimental_grouping_2022.12.02_Miller-2005.xlsx')\n",
    "E_MTAB_365_EG = pd.read_excel('data/EpiMed_experimental_grouping_2022.11.28_E-MTAB-365.xlsx')"
   ]
  },
  {
   "cell_type": "markdown",
   "metadata": {},
   "source": [
    "### Création du tableau comparatif pour evaluer l'expression des différents sous types moléculaires pour un gène et un échantillon donné"
   ]
  },
  {
   "cell_type": "code",
   "execution_count": 5,
   "metadata": {},
   "outputs": [
    {
     "data": {
      "text/html": [
       "<div>\n",
       "<style scoped>\n",
       "    .dataframe tbody tr th:only-of-type {\n",
       "        vertical-align: middle;\n",
       "    }\n",
       "\n",
       "    .dataframe tbody tr th {\n",
       "        vertical-align: top;\n",
       "    }\n",
       "\n",
       "    .dataframe thead th {\n",
       "        text-align: right;\n",
       "    }\n",
       "</style>\n",
       "<table border=\"1\" class=\"dataframe\">\n",
       "  <thead>\n",
       "    <tr style=\"text-align: right;\">\n",
       "      <th></th>\n",
       "      <th>type</th>\n",
       "      <th>value</th>\n",
       "    </tr>\n",
       "  </thead>\n",
       "  <tbody>\n",
       "    <tr>\n",
       "      <th>TCGA-A7-A0CE-11A</th>\n",
       "      <td>Non-tumour</td>\n",
       "      <td>1.371113</td>\n",
       "    </tr>\n",
       "    <tr>\n",
       "      <th>TCGA-A7-A0CH-11A</th>\n",
       "      <td>Non-tumour</td>\n",
       "      <td>0.940731</td>\n",
       "    </tr>\n",
       "    <tr>\n",
       "      <th>TCGA-A7-A0D9-11A</th>\n",
       "      <td>Non-tumour</td>\n",
       "      <td>0.592445</td>\n",
       "    </tr>\n",
       "    <tr>\n",
       "      <th>TCGA-A7-A0DB-11A</th>\n",
       "      <td>Non-tumour</td>\n",
       "      <td>1.155361</td>\n",
       "    </tr>\n",
       "    <tr>\n",
       "      <th>TCGA-A7-A0DC-11A</th>\n",
       "      <td>Non-tumour</td>\n",
       "      <td>1.053667</td>\n",
       "    </tr>\n",
       "    <tr>\n",
       "      <th>...</th>\n",
       "      <td>...</td>\n",
       "      <td>...</td>\n",
       "    </tr>\n",
       "    <tr>\n",
       "      <th>TCGA-WT-AB44-01A</th>\n",
       "      <td>Luminal-A</td>\n",
       "      <td>2.235114</td>\n",
       "    </tr>\n",
       "    <tr>\n",
       "      <th>TCGA-XX-A899-01A</th>\n",
       "      <td>Luminal-A</td>\n",
       "      <td>2.626276</td>\n",
       "    </tr>\n",
       "    <tr>\n",
       "      <th>TCGA-XX-A89A-01A</th>\n",
       "      <td>Luminal-A</td>\n",
       "      <td>2.641962</td>\n",
       "    </tr>\n",
       "    <tr>\n",
       "      <th>TCGA-Z7-A8R5-01A</th>\n",
       "      <td>Luminal-A</td>\n",
       "      <td>1.724607</td>\n",
       "    </tr>\n",
       "    <tr>\n",
       "      <th>TCGA-Z7-A8R6-01A</th>\n",
       "      <td>Luminal-B</td>\n",
       "      <td>3.781286</td>\n",
       "    </tr>\n",
       "  </tbody>\n",
       "</table>\n",
       "<p>1221 rows × 2 columns</p>\n",
       "</div>"
      ],
      "text/plain": [
       "                        type     value\n",
       "TCGA-A7-A0CE-11A  Non-tumour  1.371113\n",
       "TCGA-A7-A0CH-11A  Non-tumour  0.940731\n",
       "TCGA-A7-A0D9-11A  Non-tumour  0.592445\n",
       "TCGA-A7-A0DB-11A  Non-tumour  1.155361\n",
       "TCGA-A7-A0DC-11A  Non-tumour  1.053667\n",
       "...                      ...       ...\n",
       "TCGA-WT-AB44-01A   Luminal-A  2.235114\n",
       "TCGA-XX-A899-01A   Luminal-A  2.626276\n",
       "TCGA-XX-A89A-01A   Luminal-A  2.641962\n",
       "TCGA-Z7-A8R5-01A   Luminal-A  1.724607\n",
       "TCGA-Z7-A8R6-01A   Luminal-B  3.781286\n",
       "\n",
       "[1221 rows x 2 columns]"
      ]
     },
     "execution_count": 5,
     "metadata": {},
     "output_type": "execute_result"
    }
   ],
   "source": [
    "# Création de la fonction gene_expression\n",
    "# Elle renvoie un tableau qui donne (pour chaque échantillon d'une jeu de données) le type de cancer ainsi que l'expression du gène donné en entrée\n",
    "def gene_expression(dataset,gene,dataset2):\n",
    "    TDC = cancer[cancer[\"Dataset\"] == dataset][[\"Luminal-A\",\"Luminal-B\",\"HER2-enriched\",\"Basal-like\"]]\n",
    "    ech = cancer[cancer[\"Dataset\"] == dataset]['Sample']\n",
    "    type_cancer = TDC.apply(lambda row: ''.join(row.keys()[row == 1]), axis=1)\n",
    "    type_cancer = pd.DataFrame(type_cancer)\n",
    "    type_cancer = type_cancer.T\n",
    "    type_cancer.columns = ech.to_list()\n",
    "    \n",
    "    dataset2.gene_symbol = dataset2.gene_symbol.convert_dtypes()\n",
    "    EG = dataset2[dataset2.gene_symbol == gene][cancer[cancer[\"Dataset\"] == dataset]['Sample']]\n",
    "    df = pd.concat([type_cancer,EG],axis=0)\n",
    "    df.index = ['type', 'value']\n",
    "    df = df.T\n",
    "    df.value = pd.to_numeric(df.value)\n",
    "    df['type'] = df['type'].replace({'': 'Non-tumour'})\n",
    "    return df # sns.boxplot(x=df[\"type\"],y=df[\"value\"],orient = \"v\")\n",
    "gene_expression('Naderi-Caldas-2007',\"BOP1\",globals()['Naderi_Caldas']) # -> renvoie aucun type\n",
    "gene_expression('TCGA-BRCA',\"EZH2\",globals()['TCGA_BRCA']) # Lui il marche"
   ]
  },
  {
   "cell_type": "markdown",
   "metadata": {},
   "source": [
    "Pour chaque échantillon (dans un jeu de données), nous comparons chaque type de cancer contre tous les autres. Nous considérons au total 6 types de cancers : \n",
    "\n",
    "- Non-tumour\n",
    "- Tumour\n",
    "- Luminal-A\n",
    "- Luminal-B\n",
    "- HERB2\n",
    "- Basal-Like"
   ]
  },
  {
   "cell_type": "markdown",
   "metadata": {},
   "source": [
    "### Enrichissement du tableau avec le Fold Change"
   ]
  },
  {
   "cell_type": "code",
   "execution_count": 6,
   "metadata": {},
   "outputs": [
    {
     "data": {
      "text/html": [
       "<div>\n",
       "<style scoped>\n",
       "    .dataframe tbody tr th:only-of-type {\n",
       "        vertical-align: middle;\n",
       "    }\n",
       "\n",
       "    .dataframe tbody tr th {\n",
       "        vertical-align: top;\n",
       "    }\n",
       "\n",
       "    .dataframe thead th {\n",
       "        text-align: right;\n",
       "    }\n",
       "</style>\n",
       "<table border=\"1\" class=\"dataframe\">\n",
       "  <thead>\n",
       "    <tr style=\"text-align: right;\">\n",
       "      <th></th>\n",
       "      <th>gene</th>\n",
       "      <th>dataset</th>\n",
       "      <th>type</th>\n",
       "      <th>LOGfc</th>\n",
       "      <th>fc</th>\n",
       "      <th>F</th>\n",
       "      <th>pvalue</th>\n",
       "      <th>FDR</th>\n",
       "    </tr>\n",
       "  </thead>\n",
       "  <tbody>\n",
       "    <tr>\n",
       "      <th>0</th>\n",
       "      <td>BOP1</td>\n",
       "      <td>TCGA-BRCA</td>\n",
       "      <td>Basal-like</td>\n",
       "      <td>1.184223</td>\n",
       "      <td>2.27241</td>\n",
       "      <td>330.693096</td>\n",
       "      <td>0.0</td>\n",
       "      <td>0.0</td>\n",
       "    </tr>\n",
       "    <tr>\n",
       "      <th>1</th>\n",
       "      <td>BOP1</td>\n",
       "      <td>TCGA-BRCA</td>\n",
       "      <td>HER2-enriched</td>\n",
       "      <td>-0.014224</td>\n",
       "      <td>0.990189</td>\n",
       "      <td>0.799812</td>\n",
       "      <td>0.371326</td>\n",
       "      <td>0.371326</td>\n",
       "    </tr>\n",
       "    <tr>\n",
       "      <th>2</th>\n",
       "      <td>BOP1</td>\n",
       "      <td>TCGA-BRCA</td>\n",
       "      <td>Luminal-A</td>\n",
       "      <td>-0.429357</td>\n",
       "      <td>0.742593</td>\n",
       "      <td>61.594212</td>\n",
       "      <td>0.0</td>\n",
       "      <td>0.0</td>\n",
       "    </tr>\n",
       "    <tr>\n",
       "      <th>3</th>\n",
       "      <td>BOP1</td>\n",
       "      <td>TCGA-BRCA</td>\n",
       "      <td>Luminal-B</td>\n",
       "      <td>0.082092</td>\n",
       "      <td>1.058552</td>\n",
       "      <td>7.381185</td>\n",
       "      <td>0.006684</td>\n",
       "      <td>0.006684</td>\n",
       "    </tr>\n",
       "    <tr>\n",
       "      <th>4</th>\n",
       "      <td>BOP1</td>\n",
       "      <td>TCGA-BRCA</td>\n",
       "      <td>Non-tumour</td>\n",
       "      <td>-0.822734</td>\n",
       "      <td>0.56537</td>\n",
       "      <td>82.705159</td>\n",
       "      <td>0.0</td>\n",
       "      <td>0.0</td>\n",
       "    </tr>\n",
       "  </tbody>\n",
       "</table>\n",
       "</div>"
      ],
      "text/plain": [
       "   gene    dataset           type     LOGfc        fc           F    pvalue  \\\n",
       "0  BOP1  TCGA-BRCA     Basal-like  1.184223   2.27241  330.693096       0.0   \n",
       "1  BOP1  TCGA-BRCA  HER2-enriched -0.014224  0.990189    0.799812  0.371326   \n",
       "2  BOP1  TCGA-BRCA      Luminal-A -0.429357  0.742593   61.594212       0.0   \n",
       "3  BOP1  TCGA-BRCA      Luminal-B  0.082092  1.058552    7.381185  0.006684   \n",
       "4  BOP1  TCGA-BRCA     Non-tumour -0.822734   0.56537   82.705159       0.0   \n",
       "\n",
       "        FDR  \n",
       "0       0.0  \n",
       "1  0.371326  \n",
       "2       0.0  \n",
       "3  0.006684  \n",
       "4       0.0  "
      ]
     },
     "execution_count": 6,
     "metadata": {},
     "output_type": "execute_result"
    }
   ],
   "source": [
    "# Le code ci-dessous permet de créer un tableau (en s'appuyant sur la fonction précédente : gene_expression)\n",
    "# Le fold change permet de quantifier l'écart un sous type moléculaires avec le reste\n",
    "def get_logfc(dataset,gene,dataset2):\n",
    "    df = gene_expression(dataset,gene,dataset2)\n",
    "    df2 = df.groupby(\"type\")[\"value\"].mean()\n",
    "    result = pd.DataFrame({'gene': [gene] * len(df2.index), 'dataset': [dataset] * len(df2.index), 'type': df2.index, 'LOGfc': [None] * len(df2.index),\n",
    "                           'fc': [None] * len(df2.index), 'F': [None]*len(df2.index), 'pvalue': [None] * len(df2.index),\n",
    "                           'FDR': [None] * len(df2.index)})\n",
    "    for group in result.index:\n",
    "        other_groups = result.index.difference([group])\n",
    "        average_value = df2[other_groups].mean()\n",
    "        fc = df2[group].mean() - average_value\n",
    "        F, p_value = f_oneway(df['value'][df.type == result['type'][group]], df['value'][df.type != result['type'][group]])\n",
    "        p_valeurs_corrigees = multipletests(p_value, method='fdr_bh')[1][0]\n",
    "        result.at[group, 'LOGfc'] = fc\n",
    "        result.at[group, 'fc'] = 2**fc\n",
    "        result.at[group, 'F'] = F\n",
    "        result.at[group, 'pvalue'] = p_value\n",
    "        result.at[group, 'FDR'] = p_valeurs_corrigees\n",
    "    return result\n",
    "\n",
    "# Ici nous avons un exemple pour le gène EZH2 dans le jeu de données TCGA-BRCA\n",
    "get_logfc('TCGA-BRCA',\"EZH2\",TCGA_BRCA)\n",
    "# Ici nous avons un exemple pour le gène BOP1 dans le jeu de données TCGA-BRCA\n",
    "get_logfc('TCGA-BRCA',\"BOP1\",TCGA_BRCA)"
   ]
  },
  {
   "cell_type": "markdown",
   "metadata": {},
   "source": [
    "Nous avons cette fois-ci, un tableau qui donne pour chaque ligne l'expression d'un gène pour un sous type de cancer donné dans un jeu de donnée. La première ligne par exemple nous donne l'expression du gène BOP1, dans le jeu de données TCGA-BRCA, lorsque le type Basal-Like est activé. Plus précisement, le fold change (FC dans le tableau), nous donne le niveau de significativité de la différence entre le groupe Basal-Like et tous les autres. "
   ]
  },
  {
   "cell_type": "markdown",
   "metadata": {},
   "source": [
    "### Généralisation du tableau pour tous les gènes d'un jeu de données "
   ]
  },
  {
   "cell_type": "markdown",
   "metadata": {},
   "source": [
    "Jusqu'ici, nous avions donné "
   ]
  },
  {
   "cell_type": "code",
   "execution_count": 7,
   "metadata": {},
   "outputs": [],
   "source": [
    "# Exemple avec TCGA-BRCA\n",
    "df = get_logfc('TCGA-BRCA',TCGA_BRCA.gene_symbol[0],TCGA_BRCA)\n",
    "for g in TCGA_BRCA.gene_symbol[1:100]: # len(TCGA_BRCA.gene_symbol)\n",
    "    df = pd.concat([df,get_logfc('TCGA-BRCA',g,TCGA_BRCA)],axis=0)\n",
    "\n",
    "# Il faut reset les indices\n",
    "df = df.reset_index(drop=True)"
   ]
  },
  {
   "cell_type": "code",
   "execution_count": 8,
   "metadata": {},
   "outputs": [
    {
     "data": {
      "text/html": [
       "<div>\n",
       "<style scoped>\n",
       "    .dataframe tbody tr th:only-of-type {\n",
       "        vertical-align: middle;\n",
       "    }\n",
       "\n",
       "    .dataframe tbody tr th {\n",
       "        vertical-align: top;\n",
       "    }\n",
       "\n",
       "    .dataframe thead th {\n",
       "        text-align: right;\n",
       "    }\n",
       "</style>\n",
       "<table border=\"1\" class=\"dataframe\">\n",
       "  <thead>\n",
       "    <tr style=\"text-align: right;\">\n",
       "      <th></th>\n",
       "      <th>gene</th>\n",
       "      <th>dataset</th>\n",
       "      <th>type</th>\n",
       "      <th>LOGfc</th>\n",
       "      <th>fc</th>\n",
       "      <th>F</th>\n",
       "      <th>pvalue</th>\n",
       "      <th>FDR</th>\n",
       "    </tr>\n",
       "  </thead>\n",
       "  <tbody>\n",
       "    <tr>\n",
       "      <th>0</th>\n",
       "      <td>A1BG</td>\n",
       "      <td>TCGA-BRCA</td>\n",
       "      <td>Basal-like</td>\n",
       "      <td>-0.022586</td>\n",
       "      <td>0.984466</td>\n",
       "      <td>35.299432</td>\n",
       "      <td>0.0</td>\n",
       "      <td>0.0</td>\n",
       "    </tr>\n",
       "    <tr>\n",
       "      <th>1</th>\n",
       "      <td>A1BG</td>\n",
       "      <td>TCGA-BRCA</td>\n",
       "      <td>HER2-enriched</td>\n",
       "      <td>-0.025979</td>\n",
       "      <td>0.982154</td>\n",
       "      <td>16.428854</td>\n",
       "      <td>0.000054</td>\n",
       "      <td>0.000054</td>\n",
       "    </tr>\n",
       "    <tr>\n",
       "      <th>2</th>\n",
       "      <td>A1BG</td>\n",
       "      <td>TCGA-BRCA</td>\n",
       "      <td>Luminal-A</td>\n",
       "      <td>0.030754</td>\n",
       "      <td>1.021546</td>\n",
       "      <td>50.570851</td>\n",
       "      <td>0.0</td>\n",
       "      <td>0.0</td>\n",
       "    </tr>\n",
       "    <tr>\n",
       "      <th>3</th>\n",
       "      <td>A1BG</td>\n",
       "      <td>TCGA-BRCA</td>\n",
       "      <td>Luminal-B</td>\n",
       "      <td>0.011032</td>\n",
       "      <td>1.007676</td>\n",
       "      <td>0.004666</td>\n",
       "      <td>0.945552</td>\n",
       "      <td>0.945552</td>\n",
       "    </tr>\n",
       "    <tr>\n",
       "      <th>4</th>\n",
       "      <td>A1BG</td>\n",
       "      <td>TCGA-BRCA</td>\n",
       "      <td>Non-tumour</td>\n",
       "      <td>0.006779</td>\n",
       "      <td>1.00471</td>\n",
       "      <td>0.686409</td>\n",
       "      <td>0.407551</td>\n",
       "      <td>0.407551</td>\n",
       "    </tr>\n",
       "    <tr>\n",
       "      <th>...</th>\n",
       "      <td>...</td>\n",
       "      <td>...</td>\n",
       "      <td>...</td>\n",
       "      <td>...</td>\n",
       "      <td>...</td>\n",
       "      <td>...</td>\n",
       "      <td>...</td>\n",
       "      <td>...</td>\n",
       "    </tr>\n",
       "    <tr>\n",
       "      <th>495</th>\n",
       "      <td>ADH4</td>\n",
       "      <td>TCGA-BRCA</td>\n",
       "      <td>Basal-like</td>\n",
       "      <td>-0.033752</td>\n",
       "      <td>0.976876</td>\n",
       "      <td>1.215331</td>\n",
       "      <td>0.270496</td>\n",
       "      <td>0.270496</td>\n",
       "    </tr>\n",
       "    <tr>\n",
       "      <th>496</th>\n",
       "      <td>ADH4</td>\n",
       "      <td>TCGA-BRCA</td>\n",
       "      <td>HER2-enriched</td>\n",
       "      <td>-0.136031</td>\n",
       "      <td>0.910019</td>\n",
       "      <td>10.900043</td>\n",
       "      <td>0.000989</td>\n",
       "      <td>0.000989</td>\n",
       "    </tr>\n",
       "    <tr>\n",
       "      <th>497</th>\n",
       "      <td>ADH4</td>\n",
       "      <td>TCGA-BRCA</td>\n",
       "      <td>Luminal-A</td>\n",
       "      <td>-0.072414</td>\n",
       "      <td>0.951046</td>\n",
       "      <td>32.084071</td>\n",
       "      <td>0.0</td>\n",
       "      <td>0.0</td>\n",
       "    </tr>\n",
       "    <tr>\n",
       "      <th>498</th>\n",
       "      <td>ADH4</td>\n",
       "      <td>TCGA-BRCA</td>\n",
       "      <td>Luminal-B</td>\n",
       "      <td>-0.13577</td>\n",
       "      <td>0.910184</td>\n",
       "      <td>30.365553</td>\n",
       "      <td>0.0</td>\n",
       "      <td>0.0</td>\n",
       "    </tr>\n",
       "    <tr>\n",
       "      <th>499</th>\n",
       "      <td>ADH4</td>\n",
       "      <td>TCGA-BRCA</td>\n",
       "      <td>Non-tumour</td>\n",
       "      <td>0.377967</td>\n",
       "      <td>1.299509</td>\n",
       "      <td>335.088285</td>\n",
       "      <td>0.0</td>\n",
       "      <td>0.0</td>\n",
       "    </tr>\n",
       "  </tbody>\n",
       "</table>\n",
       "<p>500 rows × 8 columns</p>\n",
       "</div>"
      ],
      "text/plain": [
       "     gene    dataset           type     LOGfc        fc           F    pvalue  \\\n",
       "0    A1BG  TCGA-BRCA     Basal-like -0.022586  0.984466   35.299432       0.0   \n",
       "1    A1BG  TCGA-BRCA  HER2-enriched -0.025979  0.982154   16.428854  0.000054   \n",
       "2    A1BG  TCGA-BRCA      Luminal-A  0.030754  1.021546   50.570851       0.0   \n",
       "3    A1BG  TCGA-BRCA      Luminal-B  0.011032  1.007676    0.004666  0.945552   \n",
       "4    A1BG  TCGA-BRCA     Non-tumour  0.006779   1.00471    0.686409  0.407551   \n",
       "..    ...        ...            ...       ...       ...         ...       ...   \n",
       "495  ADH4  TCGA-BRCA     Basal-like -0.033752  0.976876    1.215331  0.270496   \n",
       "496  ADH4  TCGA-BRCA  HER2-enriched -0.136031  0.910019   10.900043  0.000989   \n",
       "497  ADH4  TCGA-BRCA      Luminal-A -0.072414  0.951046   32.084071       0.0   \n",
       "498  ADH4  TCGA-BRCA      Luminal-B  -0.13577  0.910184   30.365553       0.0   \n",
       "499  ADH4  TCGA-BRCA     Non-tumour  0.377967  1.299509  335.088285       0.0   \n",
       "\n",
       "          FDR  \n",
       "0         0.0  \n",
       "1    0.000054  \n",
       "2         0.0  \n",
       "3    0.945552  \n",
       "4    0.407551  \n",
       "..        ...  \n",
       "495  0.270496  \n",
       "496  0.000989  \n",
       "497       0.0  \n",
       "498       0.0  \n",
       "499       0.0  \n",
       "\n",
       "[500 rows x 8 columns]"
      ]
     },
     "execution_count": 8,
     "metadata": {},
     "output_type": "execute_result"
    }
   ],
   "source": [
    "# Le dataframe est stocké \n",
    "df.to_pickle('data/TCGA_volcano.pkl')\n",
    "\n",
    "# Il suffit de mettre la commande suivante pour le recharger : \n",
    "df = pd.read_pickle('data/TCGA_volcano.pkl')\n",
    "df"
   ]
  },
  {
   "cell_type": "markdown",
   "metadata": {},
   "source": [
    "### Construction du volcano plot"
   ]
  },
  {
   "cell_type": "markdown",
   "metadata": {},
   "source": [
    "Pour construire le Volcano Plot, nous prenons le Log2 du Fold Change en abscisse et le -log10 de la pvalue en ordonnée. Le seuil de significativité sera determiné à partir de la valeur par défaut de 0.05. Dans le graphique, le seuil de significativité est défini par une ligne horizontale en pointillé "
   ]
  },
  {
   "cell_type": "code",
   "execution_count": 17,
   "metadata": {},
   "outputs": [
    {
     "data": {
      "image/png": "[encoded data removed]",
      "text/plain": [
       "<Figure size 1000x600 with 1 Axes>"
      ]
     },
     "metadata": {},
     "output_type": "display_data"
    }
   ],
   "source": [
    "# Je commence par définir un seuil de significativité pour la PValue\n",
    "seuil = -np.log10(0.05)\n",
    "pvlog10 = -np.log10(df.pvalue.astype(float))\n",
    "pvlog10 = pvlog10.reset_index(drop=True)\n",
    "# df[\"gene\"][pvlog10[pvlog10 > 150].index]\n",
    "\n",
    "# Ensuite je crée le volcano plot\n",
    "plt.figure(figsize=(10, 6))\n",
    "sns.scatterplot(x='LOGfc', y='pvalue', data=df, color='grey')\n",
    "sns.scatterplot(x=df[-np.log10(df.pvalue.astype(float)) > seuil]['LOGfc'].values,\n",
    "                y=pvlog10[pvlog10 > seuil].values,\n",
    "                color='red', label='Signifiant')\n",
    "\n",
    "# plt.ylim(-50,100)\n",
    "\n",
    "plt.title('Volcano Plot for the dataset TCGA-BRCA') # plt.title('Volcano Plot pour le jeu de données TCGA-BRCA')\n",
    "plt.xlabel('Log2 Fold Change')\n",
    "plt.ylabel('-log10(PValue)')\n",
    "\n",
    "# Pour ajouter une ligne verticale pour mettre en évidence le seuil de significativité\n",
    "plt.axvline(x=0, color='black', linestyle='--', linewidth=1)\n",
    "plt.axhline(y=seuil, color='black', linestyle='--', linewidth=1)\n",
    "\n",
    "# Pour donner le label des -log10(pv) superieurs à 60 \n",
    "for i,gene in zip(df[\"gene\"][pvlog10[pvlog10 > 60].index].index,df[\"gene\"][pvlog10[pvlog10 > 60].index].values):\n",
    "    plt.annotate(gene, (df.iloc[i]['LOGfc'], -np.log10(df.iloc[i]['pvalue'].astype(float))))\n",
    "\n",
    "plt.legend()\n",
    "plt.show()"
   ]
  },
  {
   "cell_type": "markdown",
   "metadata": {},
   "source": [
    "Toutes les valeurs au dessus de la ligne en pointillé ont un Fold Change qui peut être considéré comme significatif. Au vu du grand nombre de points, il est impossible de préciser le libéllé de chaque point. Cependant, nous affichons les libéllé des points pour lesquels le Fold Change est le plus significatif."
   ]
  },
  {
   "cell_type": "markdown",
   "metadata": {},
   "source": [
    "### Réaliser une analyse de survie sur python "
   ]
  },
  {
   "cell_type": "markdown",
   "metadata": {},
   "source": [
    "On commence avec un premier exemple dans le jeu de données EMTAB pour le gène EZH2"
   ]
  },
  {
   "cell_type": "code",
   "execution_count": 232,
   "metadata": {},
   "outputs": [
    {
     "data": {
      "text/html": [
       "<div>\n",
       "<style scoped>\n",
       "    .dataframe tbody tr th:only-of-type {\n",
       "        vertical-align: middle;\n",
       "    }\n",
       "\n",
       "    .dataframe tbody tr th {\n",
       "        vertical-align: top;\n",
       "    }\n",
       "\n",
       "    .dataframe thead th {\n",
       "        text-align: right;\n",
       "    }\n",
       "</style>\n",
       "<table border=\"1\" class=\"dataframe\">\n",
       "  <thead>\n",
       "    <tr style=\"text-align: right;\">\n",
       "      <th></th>\n",
       "      <th>id_gene</th>\n",
       "      <th>gene_symbol</th>\n",
       "      <th>CIT_DSOA_001</th>\n",
       "      <th>CIT_DSOA_002</th>\n",
       "      <th>CIT_DSOA_003</th>\n",
       "      <th>CIT_DSOA_004</th>\n",
       "      <th>CIT_DSOA_005</th>\n",
       "      <th>CIT_DSOA_006</th>\n",
       "      <th>CIT_DSOA_007</th>\n",
       "      <th>CIT_DSOA_008</th>\n",
       "      <th>...</th>\n",
       "      <th>CIT_DSOA_528</th>\n",
       "      <th>CIT_DSOA_529</th>\n",
       "      <th>CIT_DSOA_530</th>\n",
       "      <th>CIT_DSOA_531</th>\n",
       "      <th>CIT_DSOA_532</th>\n",
       "      <th>CIT_DSOA_533</th>\n",
       "      <th>CIT_DSOA_534</th>\n",
       "      <th>CIT_DSOA_535</th>\n",
       "      <th>CIT_DSOA_536</th>\n",
       "      <th>CIT_DSOA_537</th>\n",
       "    </tr>\n",
       "  </thead>\n",
       "  <tbody>\n",
       "    <tr>\n",
       "      <th>1513</th>\n",
       "      <td>2146</td>\n",
       "      <td>EZH2</td>\n",
       "      <td>8.426623</td>\n",
       "      <td>6.877132</td>\n",
       "      <td>7.572731</td>\n",
       "      <td>5.29231</td>\n",
       "      <td>6.226845</td>\n",
       "      <td>6.886607</td>\n",
       "      <td>7.484511</td>\n",
       "      <td>6.418675</td>\n",
       "      <td>...</td>\n",
       "      <td>6.682147</td>\n",
       "      <td>6.449759</td>\n",
       "      <td>5.907661</td>\n",
       "      <td>6.008499</td>\n",
       "      <td>6.067995</td>\n",
       "      <td>6.238021</td>\n",
       "      <td>6.1007</td>\n",
       "      <td>6.347094</td>\n",
       "      <td>5.382535</td>\n",
       "      <td>5.934367</td>\n",
       "    </tr>\n",
       "  </tbody>\n",
       "</table>\n",
       "<p>1 rows × 539 columns</p>\n",
       "</div>"
      ],
      "text/plain": [
       "      id_gene gene_symbol  CIT_DSOA_001  CIT_DSOA_002  CIT_DSOA_003  \\\n",
       "1513     2146        EZH2      8.426623      6.877132      7.572731   \n",
       "\n",
       "      CIT_DSOA_004  CIT_DSOA_005  CIT_DSOA_006  CIT_DSOA_007  CIT_DSOA_008  \\\n",
       "1513       5.29231      6.226845      6.886607      7.484511      6.418675   \n",
       "\n",
       "      ...  CIT_DSOA_528  CIT_DSOA_529  CIT_DSOA_530  CIT_DSOA_531  \\\n",
       "1513  ...      6.682147      6.449759      5.907661      6.008499   \n",
       "\n",
       "      CIT_DSOA_532  CIT_DSOA_533  CIT_DSOA_534  CIT_DSOA_535  CIT_DSOA_536  \\\n",
       "1513      6.067995      6.238021        6.1007      6.347094      5.382535   \n",
       "\n",
       "      CIT_DSOA_537  \n",
       "1513      5.934367  \n",
       "\n",
       "[1 rows x 539 columns]"
      ]
     },
     "execution_count": 232,
     "metadata": {},
     "output_type": "execute_result"
    }
   ],
   "source": [
    "expression = E_MTAB_365[E_MTAB_365.gene_symbol == \"EZH2\"]\n",
    "expression.dropna(axis=1)"
   ]
  },
  {
   "cell_type": "code",
   "execution_count": 233,
   "metadata": {},
   "outputs": [],
   "source": [
    "# Recuperons maintenant les données de survie \n",
    "survie = E_MTAB_365_EG[[\"id_sample\",\"os_months\",\"os_censor\",\"dfs_months\",\"dfs_censor\"]]\n",
    "survie = survie.dropna()"
   ]
  },
  {
   "cell_type": "code",
   "execution_count": 206,
   "metadata": {},
   "outputs": [],
   "source": [
    "# Nous conservons uniquement les échantillons pour lesquelles nous avons une expression de gènes (pas de NA)\n",
    "expression = expression[E_MTAB_365_EG[[\"id_sample\",\"os_months\",\"os_censor\",\"dfs_months\",\"dfs_censor\"]]['id_sample'].values].dropna(axis=1)"
   ]
  },
  {
   "cell_type": "code",
   "execution_count": 207,
   "metadata": {},
   "outputs": [],
   "source": [
    "# On passe la ligne de données en une colonne et on la renomme \"value\"\n",
    "expression = expression[survie.id_sample].T\n",
    "expression.columns = [\"value\"]"
   ]
  },
  {
   "cell_type": "code",
   "execution_count": 208,
   "metadata": {},
   "outputs": [],
   "source": [
    "survie = pd.concat([survie.reset_index(drop=True),expression.reset_index(drop=True)],axis=1)"
   ]
  },
  {
   "cell_type": "code",
   "execution_count": 209,
   "metadata": {},
   "outputs": [
    {
     "data": {
      "image/png": "[encoded data removed]",
      "text/plain": [
       "<Figure size 640x480 with 1 Axes>"
      ]
     },
     "metadata": {},
     "output_type": "display_data"
    }
   ],
   "source": [
    "# Initialiser le modèle Kaplan-Meier\n",
    "kmf = KaplanMeierFitter()\n",
    "\n",
    "# Ajuster le modèle aux données de survie\n",
    "kmf.fit(durations=survie['os_months'], event_observed=survie['os_censor'])\n",
    "\n",
    "# Afficher la fonction de survie\n",
    "kmf.plot_survival_function()\n",
    "plt.title('Fonction de survie pour EHZ2 dans E-MTAB-365')\n",
    "plt.xlabel('Temps')\n",
    "plt.ylabel('Probabilité de survie')\n",
    "plt.legend(\"\")\n",
    "plt.show()"
   ]
  },
  {
   "cell_type": "markdown",
   "metadata": {},
   "source": [
    "Ci-dessus, nous avons un premier exemple d'analyse de survie pour le gène EHZ2 dans le jeu de données E-MTAB-365"
   ]
  },
  {
   "cell_type": "markdown",
   "metadata": {},
   "source": [
    "### Courbe Low et High dans la courbe de survie "
   ]
  },
  {
   "cell_type": "code",
   "execution_count": 210,
   "metadata": {},
   "outputs": [
    {
     "data": {
      "text/plain": [
       "0       78.0\n",
       "1       62.0\n",
       "2      110.0\n",
       "5      104.0\n",
       "6       75.0\n",
       "       ...  \n",
       "406     28.0\n",
       "411     97.0\n",
       "413    166.0\n",
       "417    186.0\n",
       "418    104.0\n",
       "Name: os_months, Length: 214, dtype: float64"
      ]
     },
     "execution_count": 210,
     "metadata": {},
     "output_type": "execute_result"
    }
   ],
   "source": [
    "mediane = np.percentile(survie[\"value\"],50)\n",
    "survie[survie[\"value\"] > mediane][\"os_months\"]"
   ]
  },
  {
   "cell_type": "code",
   "execution_count": 211,
   "metadata": {},
   "outputs": [
    {
     "data": {
      "image/png": "[encoded data removed]",
      "text/plain": [
       "<Figure size 1000x600 with 1 Axes>"
      ]
     },
     "metadata": {},
     "output_type": "display_data"
    }
   ],
   "source": [
    "# Définir le critère pour séparer les 2 groupes : \n",
    "mediane = np.percentile(survie[\"value\"],50)\n",
    "\n",
    "# Créer deux instances distinctes de KaplanMeierFitter\n",
    "kmf1 = KaplanMeierFitter()\n",
    "kmf2 = KaplanMeierFitter()\n",
    "\n",
    "# Definition des 2 groupes (Low et High)\n",
    "high = survie[survie[\"value\"] > mediane]\n",
    "low = survie[survie[\"value\"] < mediane]\n",
    "\n",
    "# Ajuster les modèles aux données de survie respectives\n",
    "kmf1.fit(durations=high[\"os_months\"], event_observed=high['os_censor'])\n",
    "kmf2.fit(durations=low[\"os_months\"], event_observed=low['os_censor'])\n",
    "\n",
    "# Tracer les courbes de survie\n",
    "plt.figure(figsize=(10, 6))\n",
    "kmf2.plot_survival_function(label=f'High n = {high.shape[0]}',color='red',ci_alpha=0)\n",
    "kmf1.plot_survival_function(label=f'Low n = {low.shape[0]}',color='blue',ci_alpha=0)\n",
    "\n",
    "\n",
    "plt.xlim(0,min(len(low),len(high)))\n",
    "\n",
    "# Ajouter des titres et légendes\n",
    "plt.title(f'EZH2 - E-MTAB-365') \n",
    "# plt.title(f'EZH2 - E-MTAB-365\\ncox p-value : {res['p'].values}\\nlogrank p-value : {res_logr.summary['p']}')\n",
    "plt.xlabel('Temps (en mois)') # plt.xlabel('Temps')\n",
    "plt.ylabel('Probabilité de survie') # plt.ylabel('Probabilité de survie')\n",
    "plt.legend()\n",
    "\n",
    "# Afficher le graphique\n",
    "plt.show()\n"
   ]
  },
  {
   "cell_type": "markdown",
   "metadata": {},
   "source": [
    "#### Généraliser avec une fonction qui prend en entrée un gène et un jeu de données"
   ]
  },
  {
   "cell_type": "code",
   "execution_count": 236,
   "metadata": {},
   "outputs": [
    {
     "data": {
      "image/png": "[encoded data removed]",
      "text/plain": [
       "<Figure size 1000x600 with 1 Axes>"
      ]
     },
     "metadata": {},
     "output_type": "display_data"
    }
   ],
   "source": [
    "def get_survie(dataset,dataset2, gene):\n",
    "    data = globals()[dataset]\n",
    "    data2 = globals()[dataset2]\n",
    "    expression = data[data.gene_symbol == gene]\n",
    "    expression.dropna(axis=1)\n",
    "    survie = data2[[\"id_sample\",\"os_months\",\"os_censor\",\"dfs_months\",\"dfs_censor\"]]\n",
    "    # Ce if permet d'arrêter la fonction si les données sont manquantes\n",
    "    if(survie.os_months.value_counts().shape[0] == 0 or survie.os_censor.value_counts().shape[0] == 0):\n",
    "        return \"Les données de survie ne sont pas disponible\"\n",
    "    survie = survie.dropna()\n",
    "    expression = expression[data2[[\"id_sample\",\"os_months\",\"os_censor\",\"dfs_months\",\"dfs_censor\"]]['id_sample'].values].dropna(axis=1)\n",
    "    expression = expression[survie.id_sample].T\n",
    "    expression.columns = [\"value\"]\n",
    "    survie = pd.concat([survie.reset_index(drop=True),expression.reset_index(drop=True)],axis=1)\n",
    "    mediane = np.percentile(survie[\"value\"],50)\n",
    "    survie[survie[\"value\"] > mediane][\"os_months\"]\n",
    "\n",
    "    mediane = np.percentile(survie[\"value\"],50)\n",
    "    kmf1 = KaplanMeierFitter()\n",
    "    kmf2 = KaplanMeierFitter()\n",
    "    high = survie[survie[\"value\"] > mediane]\n",
    "    low = survie[survie[\"value\"] < mediane]\n",
    "    kmf1.fit(durations=high[\"os_months\"], event_observed=high['os_censor'])\n",
    "    kmf2.fit(durations=low[\"os_months\"], event_observed=low['os_censor'])\n",
    "    plt.figure(figsize=(10, 6))\n",
    "    kmf2.plot_survival_function(label=f'High n = {high.shape[0]}',color='red',ci_alpha=0)\n",
    "    kmf1.plot_survival_function(label=f'Low n = {low.shape[0]}',color='blue',ci_alpha=0)\n",
    "    plt.xlim(0,min(len(low),len(high)))\n",
    "    plt.title(f'{gene} - {dataset}') \n",
    "    # plt.title(f'EZH2 - E-MTAB-365\\ncox p-value : {res['p'].values}\\nlogrank p-value : {res_logr.summary['p']}')\n",
    "    plt.xlabel('Temps (en mois)')\n",
    "    plt.ylabel('Probabilité de survie')\n",
    "    plt.legend()\n",
    "    plt.show()\n",
    "\n",
    "# Voici un exemple\n",
    "# On commence par renseigner la chaîne de caractère associée au dataframe qui donne les données d'expressions \n",
    "# puis celle du dataframe qui donne les annotations biocliniques\n",
    "get_survie(\"E_MTAB_365\",\"E_MTAB_365_EG\",\"EZH2\")"
   ]
  },
  {
   "cell_type": "markdown",
   "metadata": {},
   "source": [
    "## Travail sur les 605 gènes d'intêrets"
   ]
  },
  {
   "cell_type": "markdown",
   "metadata": {},
   "source": [
    "Dans la base précédente, nous avions plus de 20 000 gènes qu'il aurait fallu analyser. Nous allons réduire notre base à 605 gènes d'intêret, ils sont les plus susceptible d'être impliquer dans le développement de cancer du sein chez l'être humain. "
   ]
  },
  {
   "cell_type": "markdown",
   "metadata": {},
   "source": [
    "### Import des listes des gènes d'intêrets"
   ]
  },
  {
   "cell_type": "markdown",
   "metadata": {},
   "source": [
    "Les 605 gènes d'intêrets sont contenu dans des fichiers textes. Parmi les 605 gènes d'intêrets, nous en distinguons 3 types : \n",
    "\n",
    "- La famille des KDM (35)\n",
    "- La famille des KMT (109)\n",
    "- La famille des KMB (461)"
   ]
  },
  {
   "cell_type": "code",
   "execution_count": 213,
   "metadata": {},
   "outputs": [],
   "source": [
    "# Import des 35 KDM\n",
    "with open(\"genes_interets/KDM.txt\", 'r') as f:\n",
    "    lignes = f.readlines()\n",
    "id = eval(lignes[0].strip())\n",
    "nom_gene = eval(lignes[1].strip())\n",
    "KMT = pd.DataFrame({'id': id, 'nom_gene': nom_gene}) # , 'type': np.repeat(\"KMT\",len(id))\n",
    "\n",
    "\n",
    "# Import des 109 KMT\n",
    "with open(\"genes_interets/KMT.txt\", 'r') as f:\n",
    "    lignes = f.readlines()\n",
    "id = eval(lignes[0].strip())\n",
    "nom_gene = eval(lignes[1].strip())\n",
    "KDM = pd.DataFrame({'id': id, 'nom_gene': nom_gene}) # , 'type': np.repeat(\"KDM\",len(id))\n",
    "\n",
    "# Import des 461 KMB\n",
    "with open(\"genes_interets/KMB.txt\", 'r') as f:\n",
    "    lignes = f.readlines()\n",
    "id = eval(lignes[0].strip())\n",
    "nom_gene = eval(lignes[1].strip())\n",
    "KMB = pd.DataFrame({'id': id, 'nom_gene': nom_gene}) # , 'type': np.repeat(\"KMB\",len(id))"
   ]
  },
  {
   "cell_type": "markdown",
   "metadata": {},
   "source": [
    "Regroupons maintenant les 3 fichiers en un seul"
   ]
  },
  {
   "cell_type": "code",
   "execution_count": 214,
   "metadata": {},
   "outputs": [
    {
     "data": {
      "text/html": [
       "<div>\n",
       "<style scoped>\n",
       "    .dataframe tbody tr th:only-of-type {\n",
       "        vertical-align: middle;\n",
       "    }\n",
       "\n",
       "    .dataframe tbody tr th {\n",
       "        vertical-align: top;\n",
       "    }\n",
       "\n",
       "    .dataframe thead th {\n",
       "        text-align: right;\n",
       "    }\n",
       "</style>\n",
       "<table border=\"1\" class=\"dataframe\">\n",
       "  <thead>\n",
       "    <tr style=\"text-align: right;\">\n",
       "      <th></th>\n",
       "      <th>id</th>\n",
       "      <th>nom_gene</th>\n",
       "    </tr>\n",
       "  </thead>\n",
       "  <tbody>\n",
       "    <tr>\n",
       "      <th>0</th>\n",
       "      <td>65990</td>\n",
       "      <td>ANTKMT</td>\n",
       "    </tr>\n",
       "    <tr>\n",
       "      <th>1</th>\n",
       "      <td>55870</td>\n",
       "      <td>ASH1L</td>\n",
       "    </tr>\n",
       "    <tr>\n",
       "      <th>2</th>\n",
       "      <td>134145</td>\n",
       "      <td>ATPSCKMT</td>\n",
       "    </tr>\n",
       "    <tr>\n",
       "      <th>3</th>\n",
       "      <td>144233</td>\n",
       "      <td>BCDIN3D</td>\n",
       "    </tr>\n",
       "    <tr>\n",
       "      <th>4</th>\n",
       "      <td>154743</td>\n",
       "      <td>BMT2</td>\n",
       "    </tr>\n",
       "  </tbody>\n",
       "</table>\n",
       "</div>"
      ],
      "text/plain": [
       "       id  nom_gene\n",
       "0   65990    ANTKMT\n",
       "1   55870     ASH1L\n",
       "2  134145  ATPSCKMT\n",
       "3  144233   BCDIN3D\n",
       "4  154743      BMT2"
      ]
     },
     "execution_count": 214,
     "metadata": {},
     "output_type": "execute_result"
    }
   ],
   "source": [
    "GI = pd.concat([KMT,KDM,KMB])\n",
    "GI.head()"
   ]
  },
  {
   "cell_type": "code",
   "execution_count": 215,
   "metadata": {},
   "outputs": [
    {
     "data": {
      "text/plain": [
       "(679, 2)"
      ]
     },
     "execution_count": 215,
     "metadata": {},
     "output_type": "execute_result"
    }
   ],
   "source": [
    "GI.shape"
   ]
  },
  {
   "cell_type": "code",
   "execution_count": 216,
   "metadata": {},
   "outputs": [],
   "source": [
    "GSE21653 = GSE21653[GSE21653[\"id_gene\"].isin(GI.id.values)]\n",
    "Miller = Miller[Miller[\"id_gene\"].isin(GI.id.values)]\n",
    "Naderi_Caldas = Naderi_Caldas[Naderi_Caldas[\"id_gene\"].isin(GI.id.values)]\n",
    "E_MTAB_365 = E_MTAB_365[E_MTAB_365[\"id_gene\"].isin(GI.id.values)]\n",
    "GSE25066 = GSE25066[GSE25066[\"id_gene\"].isin(GI.id.values)]\n",
    "GSE42568 = GSE42568[GSE42568[\"id_gene\"].isin(GI.id.values)]\n",
    "TCGA_BRCA = TCGA_BRCA[TCGA_BRCA[\"id_gene\"].isin(GI.id.values)]\n",
    "Yau = Yau[Yau[\"id_gene\"].isin(GI.id.values)]"
   ]
  },
  {
   "cell_type": "markdown",
   "metadata": {},
   "source": [
    "Une fois que l'on a réduit les jeux de données à quelques centaines de gènes d'intérêts, nous intégrons le type de gènes parmi les 3 familles présentées plus tôt (KDM, KMB, KMT) dans les jeux de données (c'est une information supplémentaires qui pourra eventuellement nous servir par la suite)"
   ]
  },
  {
   "cell_type": "code",
   "execution_count": 217,
   "metadata": {},
   "outputs": [],
   "source": [
    "GI.columns = [\"id_gene\", \"nom_gene\"] # , \"type\""
   ]
  },
  {
   "cell_type": "code",
   "execution_count": 187,
   "metadata": {},
   "outputs": [],
   "source": [
    "# Ces commandes permettent de rajouter le type de gène dans les différents jeux de données\n",
    "# GSE21653 = GSE21653.merge(GI,how='left',on = 'id_gene')\n",
    "# Miller = Miller.merge(GI,how='left',on = 'id_gene')\n",
    "# Naderi_Caldas = Naderi_Caldas.merge(GI,how='left',on = 'id_gene')\n",
    "# E_MTAB_365 = E_MTAB_365.merge(GI,how='left',on = 'id_gene')\n",
    "# GSE25066 = GSE25066.merge(GI,how='left',on = 'id_gene')\n",
    "# GSE42568 = GSE42568.merge(GI,how='left',on = 'id_gene')\n",
    "# TCGA_BRCA = TCGA_BRCA.merge(GI,how='left',on = 'id_gene')\n",
    "# Yau = Yau.merge(GI,how='left',on = 'id_gene')"
   ]
  },
  {
   "cell_type": "markdown",
   "metadata": {},
   "source": [
    "## Nous pouvons dès à présent travailler sur une base réduite de gènes "
   ]
  },
  {
   "cell_type": "code",
   "execution_count": 237,
   "metadata": {},
   "outputs": [
    {
     "data": {
      "text/plain": [
       "'Les données de survie ne sont pas disponible'"
      ]
     },
     "execution_count": 237,
     "metadata": {},
     "output_type": "execute_result"
    }
   ],
   "source": [
    "get_survie(\"GSE21653\",\"GSE21653_EG\",\"EZH2\")"
   ]
  }
 ],
 "metadata": {
  "kernelspec": {
   "display_name": "venv",
   "language": "python",
   "name": "python3"
  },
  "language_info": {
   "codemirror_mode": {
    "name": "ipython",
    "version": 3
   },
   "file_extension": ".py",
   "mimetype": "text/x-python",
   "name": "python",
   "nbconvert_exporter": "python",
   "pygments_lexer": "ipython3",
   "version": "3.9.16"
  }
 },
 "nbformat": 4,
 "nbformat_minor": 2
}
